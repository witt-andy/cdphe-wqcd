{
 "cells": [
  {
   "cell_type": "code",
   "execution_count": null,
   "metadata": {},
   "outputs": [],
   "source": [
    "import arcpy, arcgis"
   ]
  },
  {
   "cell_type": "code",
   "execution_count": null,
   "metadata": {},
   "outputs": [],
   "source": [
    "#setup workspace\n",
    "arcpy.env.workspace = \"C:/Users/awitt/Desktop/confluences/Confluence_w_toolbox/confluence.gdb\"\n",
    "\n",
    "# input\n",
    "inFeatures = \"streams\"\n",
    "outFeatureClass = \"stream_pts_py\"\n",
    "\n",
    "# Feature Vertices to Points\n",
    "arcpy.FeatureVerticesToPoints_management(inFeatures, outFeatureClass, \"BOTH_ENDS\")\n",
    "\n",
    "# Buffer Points\n",
    "outFeatureClass2 =  \"stream_pts_buffer_py\"\n",
    "dist = arcpy.GetParameterAsText(5)\n",
    "arcpy.Buffer_analysis(outFeatureClass, outFeatureClass2, \"5 meters\", \"FULL\", \"ROUND\", \"NONE\", \"\")\n",
    "\n",
    "# Spatial Join\n",
    "target_features = outFeatureClass2\n",
    "join_features = inFeatures\n",
    "out_feature_class = \"stream_spjoin_py\"\n",
    "\n",
    "arcpy.SpatialJoin_analysis(target_features, join_features, out_feature_class)\n",
    "\n",
    "# Select by Attributes\n",
    "selection = arcpy.SelectLayerByAttribute_management(\"stream_spjoin_py\", \"NEW_SELECTION\", \n",
    "                                        \"Join_Count >= 3\")\n",
    "# Export Feature to Points\n",
    "arcpy.FeatureToPoint_management(selection, \"confluences_py\", \n",
    "                                \"CENTROID\")\n",
    "\n",
    "# Complete\n",
    "\n",
    "print(\"complete\")"
   ]
  }
 ],
 "metadata": {
  "kernelspec": {
   "display_name": "Python 3",
   "language": "python",
   "name": "python3"
  },
  "language_info": {
   "codemirror_mode": {
    "name": "ipython",
    "version": 3
   },
   "file_extension": ".py",
   "mimetype": "text/x-python",
   "name": "python",
   "nbconvert_exporter": "python",
   "pygments_lexer": "ipython3",
   "version": "3.7.7"
  }
 },
 "nbformat": 4,
 "nbformat_minor": 4
}
