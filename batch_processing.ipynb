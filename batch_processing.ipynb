{
 "cells": [
  {
   "cell_type": "code",
   "execution_count": 15,
   "metadata": {},
   "outputs": [],
   "source": [
    "# set up workspace\n",
    "arcpy.env.workspace = r\"C:\\Users\\awitt\\Desktop\\python\\batch\""
   ]
  },
  {
   "cell_type": "code",
   "execution_count": 44,
   "metadata": {},
   "outputs": [
    {
     "data": {
      "text/plain": [
       "'C:\\\\Users\\\\awitt\\\\Desktop\\\\python\\\\batch'"
      ]
     },
     "execution_count": 44,
     "metadata": {},
     "output_type": "execute_result"
    }
   ],
   "source": [
    "path = arcpy.env.workspace"
   ]
  },
  {
   "cell_type": "code",
   "execution_count": 2,
   "metadata": {},
   "outputs": [
    {
     "data": {
      "text/plain": [
       "['ColoradoCities.shp', 'ColoradoHighways.shp', 'major_riversCO.shp']"
      ]
     },
     "execution_count": 2,
     "metadata": {},
     "output_type": "execute_result"
    }
   ],
   "source": [
    "arcpy.ListFeatureClasses()"
   ]
  },
  {
   "cell_type": "code",
   "execution_count": 3,
   "metadata": {},
   "outputs": [],
   "source": [
    "#looping for batch processing of feature classes (which includes shapefiles)\n",
    "\n",
    "for fc in arcpy.ListFeatureClasses(): #start loop\n",
    "    outfc = arcpy.Describe(fc).baseName + \"_buffer100\" #set output name\n",
    "    arcpy.Buffer_analysis(fc, outfc, \"100 feet\", \"FULL\", \"ROUND\") #run the tool"
   ]
  },
  {
   "cell_type": "code",
   "execution_count": 38,
   "metadata": {},
   "outputs": [
    {
     "data": {
      "text/plain": [
       "['USGS_13_n40w107.tif']"
      ]
     },
     "execution_count": 38,
     "metadata": {},
     "output_type": "execute_result"
    }
   ],
   "source": [
    "# filtering inputs \n",
    "\n",
    "arcpy.ListRasters(\"*USGS*\") #start the loop - filter"
   ]
  },
  {
   "cell_type": "code",
   "execution_count": 62,
   "metadata": {},
   "outputs": [],
   "source": [
    "#looping for batch processing of rasters (ex: converting from metric to imperial)\n",
    "from arcpy.sa import *\n",
    "\n",
    "for raster in arcpy.ListRasters(\"*USGS*\"): #start loop\n",
    "    outraster = Raster(raster) * 3.28084\n",
    "    outraster.save(path + \"\\\\\" + \"feet_\" + raster)"
   ]
  },
  {
   "cell_type": "code",
   "execution_count": null,
   "metadata": {},
   "outputs": [],
   "source": []
  }
 ],
 "metadata": {
  "kernelspec": {
   "display_name": "ArcGISPro",
   "language": "Python",
   "name": "python3"
  },
  "language_info": {
   "file_extension": ".py",
   "name": "python",
   "version": "3"
  }
 },
 "nbformat": 4,
 "nbformat_minor": 2
}
