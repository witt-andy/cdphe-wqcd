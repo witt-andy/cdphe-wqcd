{
 "cells": [
  {
   "cell_type": "code",
   "execution_count": 1,
   "metadata": {},
   "outputs": [],
   "source": [
    "import arcpy, arcgis"
   ]
  },
  {
   "cell_type": "code",
   "execution_count": 2,
   "metadata": {},
   "outputs": [],
   "source": [
    "arcpy.env.workspace = \"C:/Users/awitt/Desktop/Deliverables/CDPHE_WQCD/Blake Beyea/water supply/model.gdb\""
   ]
  },
  {
   "cell_type": "code",
   "execution_count": 6,
   "metadata": {},
   "outputs": [],
   "source": [
    "# inputs & outputs\n",
    "statewide_wells = \"statewide_filteredwells2\"\n",
    "streams = \"streams_local2020\"\n",
    "type_ws = \"water_supply_extent_dissolve2\"\n",
    "\n",
    "out_streams = \"streams_buffer\"\n",
    "out_supply = \"CO_supplytype\""
   ]
  },
  {
   "cell_type": "code",
   "execution_count": 5,
   "metadata": {},
   "outputs": [
    {
     "data": {
      "text/plain": [
       "<Result 'C:/Users/awitt/Desktop/Deliverables/CDPHE_WQCD/Blake Beyea/water supply/model.gdb\\\\streams_buffer'>"
      ]
     },
     "execution_count": 5,
     "metadata": {},
     "output_type": "execute_result"
    }
   ],
   "source": [
    "# buffer streams to 400 ft (or specify a different distance)\n",
    "\n",
    "#takes some time to process (lots of stream segments)\n",
    "arcpy.Buffer_analysis(streams, out_streams, \"400 feet\", \"FULL\", \"ROUND\", \"NONE\", \"\", method = \"GEODESIC\")"
   ]
  },
  {
   "cell_type": "code",
   "execution_count": 7,
   "metadata": {},
   "outputs": [
    {
     "data": {
      "text/plain": [
       "<Result 'C:/Users/awitt/Desktop/Deliverables/CDPHE_WQCD/Blake Beyea/water supply/model.gdb\\\\CO_supplytype'>"
      ]
     },
     "execution_count": 7,
     "metadata": {},
     "output_type": "execute_result"
    }
   ],
   "source": [
    "# intersect statewide_wells and type\n",
    "\n",
    "arcpy.Intersect_analysis([statewide_wells, type_ws], out_supply, \"ALL\", \"\", \"INPUT\")"
   ]
  },
  {
   "cell_type": "code",
   "execution_count": 14,
   "metadata": {},
   "outputs": [
    {
     "data": {
      "text/plain": [
       "<Result 'C:\\\\Users\\\\awitt\\\\Desktop\\\\Deliverables\\\\CDPHE_WQCD\\\\Blake Beyea\\\\water supply\\\\water supply\\\\Default.gdb\\\\streams_wellJoin'>"
      ]
     },
     "execution_count": 14,
     "metadata": {},
     "output_type": "execute_result"
    }
   ],
   "source": [
    "#spatial join streams_buffer with the out_supply\n",
    "\n",
    "out_streamswell = \"streams_wellJoin\"\n",
    "\n",
    "fieldmappings = arcpy.FieldMappings()\n",
    "fieldmappings.addTable(out_supply)\n",
    "fieldmappings.addTable(out_streams)\n",
    "\n",
    "arcpy.SpatialJoin_analysis(out_supply, out_streams, out_streamswell, \"JOIN_ONE_TO_ONE\", \"KEEP_ALL\", fieldmappings, \"INTERSECT\")\n",
    "\n",
    "\n",
    "#everything works but the output attribute table isn't specificed, and likely needs to be tweeked in the spatial join tool"
   ]
  },
  {
   "cell_type": "code",
   "execution_count": 15,
   "metadata": {},
   "outputs": [
    {
     "data": {
      "text/plain": [
       "<Result 'streams_wellJoin'>"
      ]
     },
     "execution_count": 15,
     "metadata": {},
     "output_type": "execute_result"
    }
   ],
   "source": [
    "# attach near attribution to the output\n",
    "\n",
    "arcpy.Near_analysis(\"streams_wellJoin\", streams, \"\", \"NO_LOCATION\", \"NO_ANGLE\", \"GEODESIC\")"
   ]
  },
  {
   "cell_type": "code",
   "execution_count": 17,
   "metadata": {},
   "outputs": [
    {
     "name": "stdout",
     "output_type": "stream",
     "text": [
      "C:/Users/awitt/Desktop/Deliverables/CDPHE_WQCD/Blake Beyea/water supply/model.gdb/streams_wellJoin\n"
     ]
    }
   ],
   "source": [
    "# add field to calculate distance in feet (viva la imperial measurements...)\n",
    "\n",
    "arcpy.AddField_management(\"streams_wellJoin\", \"dist_ft\", \"LONG\")\n",
    "\n",
    "arcpy.CalculateField_management(\"streams_wellJoin\", \"dist_ft\", \n",
    "                                \"!NEAR_DIST!*3.28084\",\n",
    "                                \"PYTHON3\")\n"
   ]
  },
  {
   "cell_type": "code",
   "execution_count": 26,
   "metadata": {},
   "outputs": [
    {
     "name": "stdout",
     "output_type": "stream",
     "text": [
      "['OBJECTID', 'Shape', 'Join_Count', 'TARGET_FID', 'FID_statewide_filteredwells2', 'MoreInfo', 'Receipt', 'Permit', 'UTMX', 'UTMY', 'LatDecDeg', 'LongDecDeg', 'WellDepth', 'TopPerfCas', 'BotPerfCas', 'Yield', 'FID_water_supply_extent_dissolve2', 'type', 'Hstrc_A', 'SGEOID', 'GEOID', 'Len_Mls', 'HUC_8', 'Shp_Lng', 'Cycle_x', 'Split', 'ChngRsn', 'Parent', 'ChangDt', 'Changer', 'Gmtry_x', 'WBID', 'Cycle_y', 'Ag', 'AQLife', 'Rec', 'WS', 'AQLtier', 'RecTier', 'Cat', 'TempMlt', 'Commnt2', 'Gmtry_y', 'Chng_Fl', 'Analyte', 'Cycle', 'Retired', 'DESC_', 'CyclLsA', 'YrLstMn', 'P_Parnt', 'Cmmn_AH', 'Shape_Leng', 'BUFF_DIST', 'ORIG_FID', 'NEAR_FID', 'NEAR_DIST', 'dist_ft']\n"
     ]
    },
    {
     "data": {
      "text/plain": [
       "<Result 'C:\\\\Users\\\\awitt\\\\Desktop\\\\Deliverables\\\\CDPHE_WQCD\\\\Blake Beyea\\\\water supply\\\\water supply\\\\output.csv'>"
      ]
     },
     "execution_count": 26,
     "metadata": {},
     "output_type": "execute_result"
    }
   ],
   "source": [
    "# Edit and push to table (csv)\n",
    "\n",
    "#remove fields from list to save them, then delete the rest, read carefully this logic is maybe backwards\n",
    "fields = [f.name for f in arcpy.ListFields(\"streams_wellJoin\")]\n",
    "print(fields)\n",
    "\n",
    "fields.remove('OBJECTID')\n",
    "fields.remove('Shape')\n",
    "fields.remove('Join_Count')\n",
    "fields.remove('MoreInfo')\n",
    "fields.remove('Receipt')\n",
    "fields.remove('Permit')\n",
    "fields.remove('LatDecDeg')\n",
    "fields.remove('LongDecDeg')\n",
    "fields.remove('WellDepth')\n",
    "fields.remove('TopPerfCas')\n",
    "fields.remove('BotPerfCas')\n",
    "fields.remove('Yield')\n",
    "fields.remove('FID_water_supply_extent_dissolve2')\n",
    "fields.remove('type')\n",
    "fields.remove('WBID')\n",
    "fields.remove('dist_ft')\n",
    "\n",
    "\n",
    "arcpy.DeleteField_management(\"streams_wellJoin\", fields)\n",
    "\n",
    "out_csv = 'output.csv'\n",
    "\n",
    "arcpy.CopyRows_management(\"streams_wellJoin\", out_csv)"
   ]
  },
  {
   "cell_type": "code",
   "execution_count": null,
   "metadata": {},
   "outputs": [],
   "source": []
  }
 ],
 "metadata": {
  "kernelspec": {
   "display_name": "ArcGISPro",
   "language": "Python",
   "name": "python3"
  },
  "language_info": {
   "file_extension": ".py",
   "name": "python",
   "version": "3"
  }
 },
 "nbformat": 4,
 "nbformat_minor": 2
}
